{
 "cells": [
  {
   "cell_type": "code",
   "execution_count": 1,
   "id": "f8b81e6c",
   "metadata": {},
   "outputs": [
    {
     "data": {
      "text/plain": [
       "'\\n for new API: \\n    - search by keyword\\n    - get by ID\\n------- or -------\\n    - page scrapping\\n    - URL-ID conversions\\n    - get by URL\\n\\n'"
      ]
     },
     "execution_count": 1,
     "metadata": {},
     "output_type": "execute_result"
    }
   ],
   "source": [
    "import requests\n",
    "from bs4 import BeautifulSoup\n",
    "\n",
    "'''\n",
    " for new API: \n",
    "    - search by keyword\n",
    "    - get by ID\n",
    "------- or -------\n",
    "    - page scrapping\n",
    "    - URL-ID conversions\n",
    "    - get by URL\n",
    "\n",
    "'''"
   ]
  },
  {
   "cell_type": "code",
   "execution_count": 36,
   "id": "b31a8147",
   "metadata": {},
   "outputs": [],
   "source": [
    "## scrapper api unit test\n",
    "from api.api import check_Scrapper, check_API\n",
    "# load api to test\n",
    "from api.external.stdebooks import StdEBooks  as scraper_api\n",
    "from api.external.gutendex import Gutendex as json_api"
   ]
  },
  {
   "cell_type": "code",
   "execution_count": 3,
   "id": "d4dddcf5",
   "metadata": {},
   "outputs": [
    {
     "data": {
      "text/html": [
       "<pre style=\"white-space:pre;overflow-x:auto;line-height:normal;font-family:Menlo,'DejaVu Sans Mono',consolas,'Courier New',monospace\"><span style=\"color: #008000; text-decoration-color: #008000\">Search and fetching by ID working!</span>\n",
       "</pre>\n"
      ],
      "text/plain": [
       "\u001b[32mSearch and fetching by ID working!\u001b[0m\n"
      ]
     },
     "metadata": {},
     "output_type": "display_data"
    },
    {
     "data": {
      "text/html": [
       "<pre style=\"white-space:pre;overflow-x:auto;line-height:normal;font-family:Menlo,'DejaVu Sans Mono',consolas,'Courier New',monospace\"><span style=\"font-weight: bold\">Title</span>: Waiting for sailing orders : $b Fisher-life at the Land's End. <span style=\"font-weight: bold\">Author</span>: Gladstone, George, Mrs.\n",
       "<span style=\"font-weight: bold\">Blurb</span>:\n",
       "<span style=\"font-weight: bold\">[]</span>\n",
       "\n",
       "</pre>\n"
      ],
      "text/plain": [
       "\u001b[1mTitle\u001b[0m: Waiting for sailing orders : $b Fisher-life at the Land's End. \u001b[1mAuthor\u001b[0m: Gladstone, George, Mrs.\n",
       "\u001b[1mBlurb\u001b[0m:\n",
       "\u001b[1m[\u001b[0m\u001b[1m]\u001b[0m\n",
       "\n"
      ]
     },
     "metadata": {},
     "output_type": "display_data"
    },
    {
     "data": {
      "text/html": [
       "<table><tr><td>id</td><td>76233</td></tr><tr><td>title</td><td>Waiting for sailing orders : $b Fisher-life at the Land's End.</td></tr><tr><td>authors</td><td>[{'name': 'Gladstone, George, Mrs.', 'birth_year': None, 'death_year': None}]</td></tr><tr><td>summaries</td><td>[]</td></tr><tr><td>translators</td><td>[]</td></tr><tr><td>subjects</td><td>['Christian life -- Juvenile fiction', 'Cornwall (England : County) -- Juvenile fiction', 'Fishers -- Juvenile fiction', 'Runaway children -- Juvenile fiction', 'Sunday school literature', 'Twins -- Juvenile fiction']</td></tr><tr><td>bookshelves</td><td>[]</td></tr><tr><td>languages</td><td>['en']</td></tr><tr><td>copyright</td><td>False</td></tr><tr><td>media_type</td><td>Text</td></tr><tr><td>formats</td><td>{'text/html': 'https://www.gutenberg.org/ebooks/76233.html.images', 'application/epub+zip': 'https://www.gutenberg.org/ebooks/76233.epub3.images', 'application/x-mobipocket-ebook': 'https://www.gutenberg.org/ebooks/76233.kf8.images', 'text/plain; charset=us-ascii': 'https://www.gutenberg.org/ebooks/76233.txt.utf-8', 'application/rdf+xml': 'https://www.gutenberg.org/ebooks/76233.rdf', 'image/jpeg': 'https://www.gutenberg.org/cache/epub/76233/pg76233.cover.medium.jpg', 'application/octet-stream': 'https://www.gutenberg.org/cache/epub/76233/pg76233-h.zip'}</td></tr><tr><td>download_count</td><td>1442</td></tr></table>"
      ],
      "text/plain": [
       "<IPython.core.display.HTML object>"
      ]
     },
     "execution_count": 3,
     "metadata": {},
     "output_type": "execute_result"
    }
   ],
   "source": [
    "api = json_api()\n",
    "check_API(api)"
   ]
  },
  {
   "cell_type": "code",
   "execution_count": 4,
   "id": "fe6de7af",
   "metadata": {},
   "outputs": [
    {
     "data": {
      "text/html": [
       "<pre style=\"white-space:pre;overflow-x:auto;line-height:normal;font-family:Menlo,'DejaVu Sans Mono',consolas,'Courier New',monospace\"><span style=\"color: #008000; text-decoration-color: #008000\">ID and URL conversions working!</span>\n",
       "</pre>\n"
      ],
      "text/plain": [
       "\u001b[32mID and URL conversions working!\u001b[0m\n"
      ]
     },
     "metadata": {},
     "output_type": "display_data"
    },
    {
     "data": {
      "text/html": [
       "<pre style=\"white-space:pre;overflow-x:auto;line-height:normal;font-family:Menlo,'DejaVu Sans Mono',consolas,'Courier New',monospace\"><span style=\"font-weight: bold\">Title</span>: Aspects of the Novel <span style=\"font-weight: bold\">Author</span>: E. M. Forster\n",
       "<span style=\"font-weight: bold\">Blurb</span>:\n",
       "<span style=\"font-weight: bold\">Aspects of the Novel</span> by <span style=\"font-weight: bold\">E. M. Forster</span>\n",
       "Description\n",
       "“I am annoyed when people laugh at me for loving The Swiss Family Robinson, and I hope that I have annoyed some of \n",
       "you over Scott!” Anyone attempting an analysis and evaluation of novels inevitably runs the risk of upsetting those\n",
       "with different literary tastes. E. M. Forster, in his <span style=\"color: #008080; text-decoration-color: #008080; font-weight: bold\">1927</span> Clark Lectures, embraced this challenge in this personal\n",
       "yet seminal account of the English novel.\n",
       "The previous decade had seen a number of significant contributions to literary criticism of the novel, and Forster \n",
       "engages with a number of them in his lectures. Yet most of these have been forgotten, while Forster’s Aspects of \n",
       "the Novel remains in print, with a new edition introduced by Frank Kermode appearing as recently as <span style=\"color: #008080; text-decoration-color: #008080; font-weight: bold\">2005</span>. The \n",
       "continuing appeal is not simply Forster’s elegant prose, nor his engaging, conversational tone, nor yet the frisson\n",
       "of his many judgments on well-known books and contemporary authors. Rather, the work has proved seminal for \n",
       "Forster’s selection of “aspects,” and the clarity and cogency of his analysis.\n",
       "Contemporary reviews and reactions to his published lectures tended to decry his insights as limited to his own \n",
       "practice as a leading novelist. With the benefit of hindsight, more recent critics recognize the way in which \n",
       "Forster’s account of the novel has shaped the development of its study in the 20th century and beyond. As Aspects \n",
       "of the Novel approaches its centenary, it enjoys an established place as a classic of literary criticism.\n",
       "\n",
       "</pre>\n"
      ],
      "text/plain": [
       "\u001b[1mTitle\u001b[0m: Aspects of the Novel \u001b[1mAuthor\u001b[0m: E. M. Forster\n",
       "\u001b[1mBlurb\u001b[0m:\n",
       "\u001b[1mAspects of the Novel\u001b[0m by \u001b[1mE. M. Forster\u001b[0m\n",
       "Description\n",
       "“I am annoyed when people laugh at me for loving The Swiss Family Robinson, and I hope that I have annoyed some of \n",
       "you over Scott!” Anyone attempting an analysis and evaluation of novels inevitably runs the risk of upsetting those\n",
       "with different literary tastes. E. M. Forster, in his \u001b[1;36m1927\u001b[0m Clark Lectures, embraced this challenge in this personal\n",
       "yet seminal account of the English novel.\n",
       "The previous decade had seen a number of significant contributions to literary criticism of the novel, and Forster \n",
       "engages with a number of them in his lectures. Yet most of these have been forgotten, while Forster’s Aspects of \n",
       "the Novel remains in print, with a new edition introduced by Frank Kermode appearing as recently as \u001b[1;36m2005\u001b[0m. The \n",
       "continuing appeal is not simply Forster’s elegant prose, nor his engaging, conversational tone, nor yet the frisson\n",
       "of his many judgments on well-known books and contemporary authors. Rather, the work has proved seminal for \n",
       "Forster’s selection of “aspects,” and the clarity and cogency of his analysis.\n",
       "Contemporary reviews and reactions to his published lectures tended to decry his insights as limited to his own \n",
       "practice as a leading novelist. With the benefit of hindsight, more recent critics recognize the way in which \n",
       "Forster’s account of the novel has shaped the development of its study in the 20th century and beyond. As Aspects \n",
       "of the Novel approaches its centenary, it enjoys an established place as a classic of literary criticism.\n",
       "\n"
      ]
     },
     "metadata": {},
     "output_type": "display_data"
    },
    {
     "data": {
      "text/html": [
       "<img width=250px src=\"https://standardebooks.org/images/covers/e-m-forster_aspects-of-the-novel-96a3433b-cover.jpg\"><table><tr><td>id</td><td>e-m-forster/aspects-of-the-novel</td></tr><tr><td>title</td><td>Aspects of the Novel</td></tr><tr><td>author</td><td>E. M. Forster</td></tr><tr><td>description</td><td>Description\n",
       "“I am annoyed when people laugh at me for loving The Swiss Family Robinson, and I hope that I have annoyed some of you over Scott!” Anyone attempting an analysis and evaluation of novels inevitably runs the risk of upsetting those with different literary tastes. E. M. Forster, in his 1927 Clark Lectures, embraced this challenge in this personal yet seminal account of the English novel.\n",
       "The previous decade had seen a number of significant contributions to literary criticism of the novel, and Forster engages with a number of them in his lectures. Yet most of these have been forgotten, while Forster’s Aspects of the Novel remains in print, with a new edition introduced by Frank Kermode appearing as recently as 2005. The continuing appeal is not simply Forster’s elegant prose, nor his engaging, conversational tone, nor yet the frisson of his many judgments on well-known books and contemporary authors. Rather, the work has proved seminal for Forster’s selection of “aspects,” and the clarity and cogency of his analysis.\n",
       "Contemporary reviews and reactions to his published lectures tended to decry his insights as limited to his own practice as a leading novelist. With the benefit of hindsight, more recent critics recognize the way in which Forster’s account of the novel has shaped the development of its study in the 20th century and beyond. As Aspects of the Novel approaches its centenary, it enjoys an established place as a classic of literary criticism.</td></tr><tr><td>tags</td><td>Nonfiction</td></tr><tr><td>length</td><td>45,500 words (2 hours 46 minutes) with a reading ease of 58.42 (fairly difficult)</td></tr><tr><td>additional-info</td><td>№ 14 in the Modern Library’s 100 Best Nonfiction\n",
       "\tset.</td></tr><tr><td>github</td><td><a href = 'https://github.com/standardebooks/e-m-forster_aspects-of-the-novel'>https://github.com/standardebooks/e-m-forster_aspects-of-the-novel</a></td></tr><tr><td>sources</td><td><a href='https://www.gutenberg.org/ebooks/70492'>https://www.gutenberg.org/ebooks/70492</a><a href='https://archive.org/details/aspectsofnovel0000emfo'>https://archive.org/details/aspectsofnovel0000emfo</a></td></tr></table>"
      ],
      "text/plain": [
       "<IPython.core.display.HTML object>"
      ]
     },
     "execution_count": 4,
     "metadata": {},
     "output_type": "execute_result"
    }
   ],
   "source": [
    "url = \"https://standardebooks.org/ebooks/e-m-forster/aspects-of-the-novel\"\n",
    "api_test_1 = scraper_api()\n",
    "check_Scrapper(api_test_1, url)"
   ]
  },
  {
   "cell_type": "code",
   "execution_count": 37,
   "id": "0321ee25",
   "metadata": {},
   "outputs": [],
   "source": [
    "from api.internal import internDB\n",
    "from notes.notes import  notesDB\n",
    "from IPython.display import HTML\n",
    "\n",
    "interndb = internDB()\n",
    "notes = notesDB()\n"
   ]
  },
  {
   "cell_type": "code",
   "execution_count": 28,
   "id": "986a9e75",
   "metadata": {},
   "outputs": [
    {
     "data": {
      "application/vnd.microsoft.datawrangler.viewer.v0+json": {
       "columns": [
        {
         "name": "index",
         "rawType": "int64",
         "type": "integer"
        },
        {
         "name": "title",
         "rawType": "object",
         "type": "string"
        },
        {
         "name": "progress",
         "rawType": "int64",
         "type": "integer"
        },
        {
         "name": "DB",
         "rawType": "object",
         "type": "string"
        },
        {
         "name": "authors",
         "rawType": "object",
         "type": "string"
        },
        {
         "name": "type",
         "rawType": "int64",
         "type": "integer"
        },
        {
         "name": "notes",
         "rawType": "object",
         "type": "string"
        }
       ],
       "ref": "1c796e31-a37b-413a-a5bb-c5f16c5f4257",
       "rows": [
        [
         "0",
         "100 Days in Europe",
         "0",
         "mangaupdates/52260056227",
         "Jihyo Kim",
         "1",
         "I read this back when I was still reading on the Tapas app. I like Jihyo Kim's artwork and I read her other comic after this, Hans and Emily"
        ],
        [
         "1",
         "10th - You and I Fell in Love with the Same Person",
         "0",
         "mangadex/e1980036-8e28-4885-b8fc-12dc31374f90",
         "Inari Yuuko",
         "1",
         "I saw this at the bookstores, and wondered about it. Turns out it's only 3 volumes, and since it's published here, it can't be bad, right, I thought. So I picked it up. It's quite interesting, I suppose, since in the end, they all stayed friends."
        ],
        [
         "2",
         "150 Days",
         "0",
         "old/2",
         "KnightJJ",
         "1",
         "I read this because the art looked cute"
        ],
        [
         "3",
         "18 Diary",
         "0",
         "mangaupdates/55423584538",
         "Akira Shouko",
         "1",
         ""
        ],
        [
         "4",
         "19 Days",
         "0",
         "mangaupdates/50189847461",
         "Old Xian",
         "1",
         "Originaly recommended by Hattchan! A very nice BL series, and Old Xian's artwork is a treat to the eyes."
        ],
        [
         "5",
         "1984",
         "0",
         "neodb/book/7fufBhawdgBF5z9dp5ybQF",
         "George Orwell",
         "0",
         "I read this in school"
        ],
        [
         "6",
         "2015 Space Series",
         "0",
         "mangaupdates/67848211859",
         "various",
         "1",
         ""
        ],
        [
         "7",
         "2020 Total Nightmare",
         "0",
         "mangaupdates/25657747647",
         "Horang",
         "1",
         ""
        ],
        [
         "8",
         "3 AM Dangerous Zone",
         "0",
         "mangaupdates/28652585789",
         "NEMU Youko",
         "1",
         "I read this on Putri's recommendation."
        ],
        [
         "9",
         "31 Ways to Runaway",
         "0",
         "old/9",
         "various",
         "1",
         ""
        ],
        [
         "10",
         "600 Page Mystery",
         "0",
         "mangaupdates/31164855027",
         "Alto Yukimura",
         "1",
         "I read this because this was short and was recommended as being similar to series recommended by Hattchan. A recommendation of a recommendation, I suppose."
        ],
        [
         "11",
         "87 Clockers",
         "0",
         "mangaupdates/27414090222",
         "Tomoko Ninomiya",
         "1",
         "I read this because I wanted to read something else from Ninomiya. It's not quite as enjoyable as Nodame, but it also has quirky casts."
        ],
        [
         "12",
         "A Beer in Loire",
         "0",
         "old/12",
         "Tommy Barnes",
         "2",
         "I listened to this audiobook because Jay Foreman from Map Men reads it! It turned out to be quite interesting and funny, even if I don't like beer."
        ],
        [
         "13",
         "A Depiction of Hell",
         "0",
         "mangaupdates/45430411821",
         "Xiu Liu",
         "1",
         "This has such pretty art, but also it is pretty messed up. I look at this and I still remember how unsettling the story was, even if I don't remember what the story was about."
        ],
        [
         "14",
         "A Farewell to Arms",
         "0",
         "old/14",
         "Ernest Hemmingway",
         "0",
         ""
        ],
        [
         "15",
         "A Girl by the Sea",
         "0",
         "mangaupdates/40249415081",
         "Asano Inio",
         "1",
         "I saw this in a bookshop and wanted to buy it but never did. This and Oyasumi Punpun is probably how I first hear about [[Asano Inio]]"
        ],
        [
         "16",
         "A Mangaka at the Night Before the Deadline",
         "0",
         "mangaupdates/21833880624",
         "Doitsuken",
         "1",
         "I surprisingly randomly found this on a scanlator group's page, via Tachiyomi, haha. Viva Tachiyomi! Hachirumi is actually translating stuff (mostly oneshots) with approval from the authors, so tha's pretty cool!"
        ],
        [
         "17",
         "A Personal Matter",
         "0",
         "old/17",
         "Kenzaburō Ōe",
         "0",
         "I borrowed this from Vitaly. He had to read this for an assignment in uni, but I read it just for fun. It feels a bit bleak at first but somehow it kinda had a good ending."
        ],
        [
         "18",
         "A River in Darkness",
         "0",
         "old/18",
         "Masaji Ishikawa",
         "0",
         "A story of the lengths one had to go through to stay alive in extreme conditions. Sad, but hopeful since you know that he made it, and lived to write the tale."
        ],
        [
         "19",
         "A Series of Unfortunate Events",
         "0",
         "old/19",
         "Lemony Snicket (Daniel Handler)",
         "0",
         ""
        ],
        [
         "20",
         "A Witch's Printing Office",
         "0",
         "mangaupdates/13795029587",
         "Miyama Yasuhiro,Mochinchi",
         "1",
         "A funny fantasy comic about Comicket, otaku, and the doujin scene. Seems like Mochinchi is originally a doujin author on Comicket as well. I wanna go there too once!"
        ],
        [
         "21",
         "Adekan",
         "0",
         "mangaupdates/56362245653",
         "Tsukiji Nao",
         "1",
         "I dropped this because the scanlators stopped translating"
        ],
        [
         "22",
         "Aerial Magic",
         "0",
         "old/22",
         "walkingnorth",
         "1",
         "Dropped by Author"
        ],
        [
         "23",
         "Alice 19th",
         "0",
         "mangaupdates/29700992880",
         "Watase Yuu",
         "1",
         "I found a volume of this somewhere in Balikpapan, maybe it was my aunt's."
        ],
        [
         "24",
         "Amba",
         "0",
         "old/24",
         "Laksmi Pamuntjak",
         "0",
         ""
        ],
        [
         "25",
         "Amina and the Magic Lamp",
         "0",
         "mangaupdates/41541070762",
         "Eeyeol Chun,heeya",
         "1",
         "Recommended by Putri, who reads on Manta."
        ],
        [
         "26",
         "Animal Farm",
         "0",
         "old/26",
         "George Orwell",
         "0",
         "Read this in 8th grade"
        ],
        [
         "27",
         "Annarasumanara",
         "0",
         "mangadex/0ea0abe6-2aad-4aae-8462-9c6caf266653",
         "Ha Il-Kwon",
         "1",
         "This series is so beautifuly drawn. I started reading webtoons because of this. I read it back when I started living alone in Schriesheim."
        ],
        [
         "28",
         "Arakure",
         "0",
         "mangadex/d9d0b800-6800-4acc-a14c-927e180226cb",
         "Fujiwara Kiyo",
         "1",
         "I found this through the Indonesian manga magazine HanaLala. I picked it up again years after, but picking up these comics after so many years is quite fun."
        ],
        [
         "29",
         "Are You Going to Eat?",
         "0",
         "mangadex/55a7e2c0-4829-4ce8-8fdb-0344b6531bb5",
         "omyo",
         "1",
         "Very cute comic - there's a mobile app based on this comic. I played it for a while, but then lost all my progress TUT"
        ],
        [
         "30",
         "Arok Dedes",
         "0",
         "old/30",
         "P.A. Toer",
         "0",
         "I really liked this book. It showed a very interesting political perspective of the Ken Arok legend, and how at the end of the day, Dedes also lost."
        ],
        [
         "31",
         "As I Lay Dying",
         "0",
         "old/31",
         "William Faulkner",
         "0",
         "I read this the summer after 12th grade for fun. Mrs. Rizzardi mentioned that this is an interesting piece of literature. I kinda agree, but it's so bleak."
        ],
        [
         "32",
         "Ascendance of a Bookworm- Part 1",
         "0",
         "mangadex/c0ad8919-4646-4a61-adf9-0fd6d8612efa",
         "Kazuki Miya,Suzuka",
         "1",
         "Recommended by Hattchan. I'm currently reading the sequel [31.03.2021]"
        ],
        [
         "33",
         "Assasination Classroom",
         "0",
         "mangadex/333f4d22-7753-4e3b-b0da-0a69b2cdce4f",
         "Matsui Yuusei",
         "1",
         "I started reading this because of Hattchan"
        ],
        [
         "34",
         "At Each Other's Throats",
         "0",
         "mangaupdates/17117338202",
         "Sengae",
         "1",
         "This was cute and funny."
        ],
        [
         "35",
         "Avianista",
         "0",
         "old/35",
         " Fadjar N. (Producer), airdrama,Rimanti N.,Gerry S",
         "1",
         ""
        ],
        [
         "36",
         "Ayako",
         "0",
         "old/36",
         "Osamu Tezuka",
         "1",
         "The story is rather dark... It's not a story you read when you're feeling down."
        ],
        [
         "37",
         "Bakemono Recchan",
         "0",
         "old/37",
         "Asano Inio",
         "1",
         ""
        ],
        [
         "38",
         "Bakuman",
         "0",
         "mangaupdates/34780720357",
         "Ohba Tsugumi,Obata Takeshi",
         "1",
         ""
        ],
        [
         "39",
         "Balada Akhir Pekan",
         "0",
         "old/39",
         "Nan Nan",
         "1",
         "I somehow found this hilarious, haha."
        ],
        [
         "40",
         "Barakamon",
         "0",
         "mangaupdates/55132007396",
         "Yoshino Satsuki",
         "1",
         "I first saw this in a bookshop at a train station. I was intrigued by the premise of a manga revolving caligraphy."
        ],
        [
         "41",
         "Barbara",
         "0",
         "mangaupdates/43601147428",
         "Osamu Tezuka",
         "1",
         ""
        ],
        [
         "42",
         "Beastars",
         "0",
         "mangaupdates/73371651692",
         "Itagaki Paru",
         "1",
         "I binged this on a hot Saturday instead of studying for my exams. Putri recommended the anime to me. I think I'm very similar to Legosi because I also think Louis is the coolest character."
        ],
        [
         "43",
         "Beauty is the Beast",
         "0",
         "old/43",
         "Matsumoto Tomo",
         "1",
         "I first read this on HanaLala"
        ],
        [
         "44",
         "Beauty",
         "0",
         "old/44",
         "Hubert,Kerascöet",
         "1",
         "I read the ebook version of this using the last days of my Scribd subscription. The story is not bad and include several themes. I like that the story has a fairytale-cautionary tale aesthetics to it."
        ],
        [
         "45",
         "Before We Knew It",
         "0",
         "old/45",
         "Nakano Mayaka",
         "1",
         "Very shoujo-manga "
        ],
        [
         "46",
         "Beneath the Clouds",
         "0",
         "old/46",
         "Caroline Parkinson",
         "1",
         "I found this through another webcomic called Realm if Owls, through which I found the SpiderForest webcomic collective, through which I found Beneath the Clouds. I liked the story and artstyle."
        ],
        [
         "47",
         "Bernie no Enikki",
         "0",
         "mangaupdates/37471366799",
         "MINECO",
         "1",
         ""
        ],
        [
         "48",
         "Beyond Valhalla",
         "0",
         "old/48",
         "Rann",
         "1",
         "I bought the PDF on Gumroad, I think? But it's not available anywhere anymore it seems?"
        ],
        [
         "49",
         "Black Cat",
         "0",
         "mangaupdates/27113423397",
         "Yabuki Kentaro",
         "1",
         "One of the series that brought Hattchan and I together"
        ]
       ],
       "shape": {
        "columns": 6,
        "rows": 674
       }
      },
      "text/html": [
       "<div>\n",
       "<style scoped>\n",
       "    .dataframe tbody tr th:only-of-type {\n",
       "        vertical-align: middle;\n",
       "    }\n",
       "\n",
       "    .dataframe tbody tr th {\n",
       "        vertical-align: top;\n",
       "    }\n",
       "\n",
       "    .dataframe thead th {\n",
       "        text-align: right;\n",
       "    }\n",
       "</style>\n",
       "<table border=\"1\" class=\"dataframe\">\n",
       "  <thead>\n",
       "    <tr style=\"text-align: right;\">\n",
       "      <th></th>\n",
       "      <th>title</th>\n",
       "      <th>progress</th>\n",
       "      <th>DB</th>\n",
       "      <th>authors</th>\n",
       "      <th>type</th>\n",
       "      <th>notes</th>\n",
       "    </tr>\n",
       "  </thead>\n",
       "  <tbody>\n",
       "    <tr>\n",
       "      <th>0</th>\n",
       "      <td>100 Days in Europe</td>\n",
       "      <td>0</td>\n",
       "      <td>mangaupdates/52260056227</td>\n",
       "      <td>Jihyo Kim</td>\n",
       "      <td>1</td>\n",
       "      <td>I read this back when I was still reading on t...</td>\n",
       "    </tr>\n",
       "    <tr>\n",
       "      <th>1</th>\n",
       "      <td>10th - You and I Fell in Love with the Same Pe...</td>\n",
       "      <td>0</td>\n",
       "      <td>mangadex/e1980036-8e28-4885-b8fc-12dc31374f90</td>\n",
       "      <td>Inari Yuuko</td>\n",
       "      <td>1</td>\n",
       "      <td>I saw this at the bookstores, and wondered abo...</td>\n",
       "    </tr>\n",
       "    <tr>\n",
       "      <th>2</th>\n",
       "      <td>150 Days</td>\n",
       "      <td>0</td>\n",
       "      <td>old/2</td>\n",
       "      <td>KnightJJ</td>\n",
       "      <td>1</td>\n",
       "      <td>I read this because the art looked cute</td>\n",
       "    </tr>\n",
       "    <tr>\n",
       "      <th>3</th>\n",
       "      <td>18 Diary</td>\n",
       "      <td>0</td>\n",
       "      <td>mangaupdates/55423584538</td>\n",
       "      <td>Akira Shouko</td>\n",
       "      <td>1</td>\n",
       "      <td></td>\n",
       "    </tr>\n",
       "    <tr>\n",
       "      <th>4</th>\n",
       "      <td>19 Days</td>\n",
       "      <td>0</td>\n",
       "      <td>mangaupdates/50189847461</td>\n",
       "      <td>Old Xian</td>\n",
       "      <td>1</td>\n",
       "      <td>Originaly recommended by Hattchan! A very nice...</td>\n",
       "    </tr>\n",
       "    <tr>\n",
       "      <th>...</th>\n",
       "      <td>...</td>\n",
       "      <td>...</td>\n",
       "      <td>...</td>\n",
       "      <td>...</td>\n",
       "      <td>...</td>\n",
       "      <td>...</td>\n",
       "    </tr>\n",
       "    <tr>\n",
       "      <th>669</th>\n",
       "      <td>Now Recharging</td>\n",
       "      <td>0</td>\n",
       "      <td>tachibk/42</td>\n",
       "      <td>,Maiji/Mary Huang</td>\n",
       "      <td>1</td>\n",
       "      <td>I really like this series. It's very Buddhist,...</td>\n",
       "    </tr>\n",
       "    <tr>\n",
       "      <th>670</th>\n",
       "      <td>Bunkered Down in Kyiv</td>\n",
       "      <td>0</td>\n",
       "      <td>internal/0</td>\n",
       "      <td>Zhenya Oliinyk</td>\n",
       "      <td>1</td>\n",
       "      <td>I read this at the beginning of the Ukraine war.</td>\n",
       "    </tr>\n",
       "    <tr>\n",
       "      <th>671</th>\n",
       "      <td>1000 Words</td>\n",
       "      <td>0</td>\n",
       "      <td>internal/1</td>\n",
       "      <td>Yuumei</td>\n",
       "      <td>1</td>\n",
       "      <td>I read this on DeviantArt back in the day.</td>\n",
       "    </tr>\n",
       "    <tr>\n",
       "      <th>672</th>\n",
       "      <td>Sick Alhaitham</td>\n",
       "      <td>0</td>\n",
       "      <td>internal/2</td>\n",
       "      <td>meru_h1h1_chan/</td>\n",
       "      <td>1</td>\n",
       "      <td>I read this on DeviantArt back in the day.</td>\n",
       "    </tr>\n",
       "    <tr>\n",
       "      <th>673</th>\n",
       "      <td>Genshin Fancomic - Lyney and Lynette</td>\n",
       "      <td>0</td>\n",
       "      <td>internal/3</td>\n",
       "      <td>nana_illust</td>\n",
       "      <td>1</td>\n",
       "      <td></td>\n",
       "    </tr>\n",
       "  </tbody>\n",
       "</table>\n",
       "<p>674 rows × 6 columns</p>\n",
       "</div>"
      ],
      "text/plain": [
       "                                                 title  ...                                              notes\n",
       "0                                   100 Days in Europe  ...  I read this back when I was still reading on t...\n",
       "1    10th - You and I Fell in Love with the Same Pe...  ...  I saw this at the bookstores, and wondered abo...\n",
       "2                                             150 Days  ...            I read this because the art looked cute\n",
       "3                                             18 Diary  ...                                                   \n",
       "4                                              19 Days  ...  Originaly recommended by Hattchan! A very nice...\n",
       "..                                                 ...  ...                                                ...\n",
       "669                                     Now Recharging  ...  I really like this series. It's very Buddhist,...\n",
       "670                              Bunkered Down in Kyiv  ...   I read this at the beginning of the Ukraine war.\n",
       "671                                         1000 Words  ...        I read this on DeviantArt back in the day. \n",
       "672                                     Sick Alhaitham  ...        I read this on DeviantArt back in the day. \n",
       "673               Genshin Fancomic - Lyney and Lynette  ...                                                   \n",
       "\n",
       "[674 rows x 6 columns]"
      ]
     },
     "execution_count": 28,
     "metadata": {},
     "output_type": "execute_result"
    }
   ],
   "source": [
    "notes.df"
   ]
  }
 ],
 "metadata": {
  "kernelspec": {
   "display_name": ".venv",
   "language": "python",
   "name": "python3"
  },
  "language_info": {
   "codemirror_mode": {
    "name": "ipython",
    "version": 3
   },
   "file_extension": ".py",
   "mimetype": "text/x-python",
   "name": "python",
   "nbconvert_exporter": "python",
   "pygments_lexer": "ipython3",
   "version": "3.13.5"
  }
 },
 "nbformat": 4,
 "nbformat_minor": 5
}
