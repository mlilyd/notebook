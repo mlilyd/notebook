{
 "cells": [
  {
   "cell_type": "code",
   "execution_count": 1,
   "id": "f95a4ec0",
   "metadata": {},
   "outputs": [
    {
     "data": {
      "text/html": [
       "<style>\n",
       "/*overwrite hard coded write background by vscode for ipywidges */\n",
       "table, td {\n",
       "    border: 1px solid lightgrey;\n",
       "}\n",
       "\n",
       ".dftable {\n",
       "    border-collapse: collapse;\n",
       "    white-space: nowrap;\n",
       "    text-overflow: ellipsis;\n",
       "    text-align: center;\n",
       "}\n",
       "</style>\n"
      ],
      "text/plain": [
       "<IPython.core.display.HTML object>"
      ]
     },
     "metadata": {},
     "output_type": "display_data"
    }
   ],
   "source": [
    "%%html\n",
    "<style>\n",
    "/*overwrite hard coded write background by vscode for ipywidges */\n",
    "table, td {\n",
    "    border: 1px solid lightgrey;\n",
    "}\n",
    "\n",
    ".dftable {\n",
    "    border-collapse: collapse;\n",
    "    white-space: nowrap;\n",
    "    text-overflow: ellipsis;\n",
    "    text-align: center;\n",
    "}\n",
    "</style>"
   ]
  },
  {
   "cell_type": "code",
   "execution_count": 2,
   "id": "5db15d77",
   "metadata": {},
   "outputs": [],
   "source": [
    "import ui.screens as uic\n",
    "from ipywidgets import widgets\n",
    "from itables import show\n",
    "\n",
    "import notes.tachbk as tachbk\n",
    "import pandas as pd\n",
    "\n",
    "from api.internal import TachiBk, internDB\n",
    "from notes.notes import notesDB\n",
    "notes = notesDB()\n",
    "tachidb = TachiBk()\n",
    "interndb = internDB()"
   ]
  },
  {
   "cell_type": "markdown",
   "id": "ea320aea",
   "metadata": {},
   "source": [
    "# Notebook\n",
    "\n",
    "[Table](/voila/render/table.ipynb)"
   ]
  },
  {
   "cell_type": "code",
   "execution_count": 3,
   "id": "3f5802a2",
   "metadata": {},
   "outputs": [],
   "source": [
    "from_url = {'notes': []}\n",
    "search = {'notes': [], 'title': None}\n",
    "from_tachi = {'notes' : []}\n",
    "from_libby = {'notes' : []}\n",
    "manual = {'notes': [], 'entries': [], 'lastID': interndb.getLastID()+1}\n",
    "\n",
    "save_button = widgets.Button(\n",
    "        description = \"Save\",\n",
    "        tooltip = \"Save all changes\",\n",
    "        layout = {'width':'5%','height':'700px','align': 'right'},\n",
    "        style = {'button_color': 'lightgreen'}\n",
    "    )\n",
    "\n",
    "def save(b):\n",
    "    notes.save()\n",
    "    tachidb.save()\n",
    "    interndb.save()\n",
    "save_button.on_click(save)"
   ]
  },
  {
   "cell_type": "code",
   "execution_count": 4,
   "id": "1cd74052",
   "metadata": {},
   "outputs": [
    {
     "data": {
      "application/vnd.jupyter.widget-view+json": {
       "model_id": "ba66c08168bf48fab9a8c7789f35c527",
       "version_major": 2,
       "version_minor": 0
      },
      "text/plain": [
       "HBox(children=(Tab(children=(HBox(children=(VBox(children=(VBox(children=(IntText(value=0, description='ID:', …"
      ]
     },
     "execution_count": 4,
     "metadata": {},
     "output_type": "execute_result"
    }
   ],
   "source": [
    "pages = [uic.entry_display(notes),\n",
    "        uic.search_API(search), \n",
    "        uic.add_from_url(from_url),\n",
    "        uic.add_libby(from_libby),\n",
    "        uic.add_tachi(from_tachi, tachidb),\n",
    "        uic.add_manual(manual),\n",
    "        uic.review_new_notes(search, manual, from_url, \n",
    "                            from_libby, from_tachi, notes, interndb)]\n",
    "\n",
    "tab_titles = [\"Entry View\", \"Search API\", \"Add From URL\",\n",
    "              \"Add From Libby\", \"Add From Tachi\", \"Manual Entry\", \"Review\"]\n",
    "main = widgets.Tab(children = pages, titles = tab_titles, layout={'width':'95%', 'height': '700px'})\n",
    "widgets.HBox([main,save_button])"
   ]
  }
 ],
 "metadata": {
  "kernelspec": {
   "display_name": "Python 3",
   "language": "python",
   "name": "python3"
  },
  "language_info": {
   "codemirror_mode": {
    "name": "ipython",
    "version": 3
   },
   "file_extension": ".py",
   "mimetype": "text/x-python",
   "name": "python",
   "nbconvert_exporter": "python",
   "pygments_lexer": "ipython3",
   "version": "3.13.1"
  }
 },
 "nbformat": 4,
 "nbformat_minor": 5
}
