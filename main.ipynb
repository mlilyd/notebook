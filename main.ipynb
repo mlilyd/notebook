{
 "cells": [
  {
   "cell_type": "markdown",
   "metadata": {},
   "source": [
    "# Reading Notebook"
   ]
  },
  {
   "cell_type": "code",
   "execution_count": 1,
   "metadata": {
    "jupyter": {
     "source_hidden": true
    }
   },
   "outputs": [
    {
     "data": {
      "text/html": [
       "<style>\n",
       "/*overwrite hard coded write background by vscode for ipywidges */\n",
       ".cell-output-ipywidget-background{\n",
       "   background-color: transparent !important;\n",
       "}\n",
       "\n",
       "div, input, select, ul, li,span{\n",
       "    background-color: transparent !important;\n",
       "    color: var(--vscode-editor-foreground);\n",
       "}\n",
       "select > option{\n",
       "    background-color: var(--vscode-editor-background);\n",
       "    color: var(--vscode-editor-foreground);\n",
       "}\n",
       "/*set widget foreground text and color of interactive widget to vs dark theme color */\n",
       ":root{ \n",
       "    --jp-widgets-color: var(--vscode-editor-foreground);\n",
       "    --jp-widgets-font-size: var(--vscode-editor-font-size);\n",
       "}\n",
       "\n",
       "table, td {\n",
       "    border: 1px solid lightgrey;\n",
       "    border-collapse: collapse;\n",
       "}\n",
       "</style>\n"
      ],
      "text/plain": [
       "<IPython.core.display.HTML object>"
      ]
     },
     "metadata": {},
     "output_type": "display_data"
    }
   ],
   "source": [
    "%%html\n",
    "<style>\n",
    "/*overwrite hard coded write background by vscode for ipywidges */\n",
    ".cell-output-ipywidget-background{\n",
    "   background-color: transparent !important;\n",
    "}\n",
    "\n",
    "div, input, select, ul, li,span{\n",
    "    background-color: transparent !important;\n",
    "    color: var(--vscode-editor-foreground);\n",
    "}\n",
    "select > option{\n",
    "    background-color: var(--vscode-editor-background);\n",
    "    color: var(--vscode-editor-foreground);\n",
    "}\n",
    "/*set widget foreground text and color of interactive widget to vs dark theme color */\n",
    ":root{ \n",
    "    --jp-widgets-color: var(--vscode-editor-foreground);\n",
    "    --jp-widgets-font-size: var(--vscode-editor-font-size);\n",
    "}\n",
    "\n",
    "table, td {\n",
    "    border: 1px solid lightgrey;\n",
    "    border-collapse: collapse;\n",
    "}\n",
    "</style>"
   ]
  },
  {
   "cell_type": "code",
   "execution_count": 2,
   "metadata": {},
   "outputs": [],
   "source": [
    "import notes.tachbk as tachbk\n",
    "import pandas as pd\n",
    "\n",
    "import ui.screens as screens\n",
    "\n",
    "from api.internal import TachiBk, internDB\n",
    "from notes.notes import notesDB\n",
    "\n",
    "notes = notesDB()\n",
    "tachidb = TachiBk()\n",
    "interndb = internDB()"
   ]
  },
  {
   "cell_type": "markdown",
   "metadata": {},
   "source": [
    "## Entries"
   ]
  },
  {
   "cell_type": "code",
   "execution_count": 3,
   "metadata": {},
   "outputs": [
    {
     "data": {
      "application/vnd.microsoft.datawrangler.viewer.v0+json": {
       "columns": [
        {
         "name": "index",
         "rawType": "int64",
         "type": "integer"
        },
        {
         "name": "title",
         "rawType": "object",
         "type": "string"
        },
        {
         "name": "progress",
         "rawType": "int64",
         "type": "integer"
        },
        {
         "name": "DB",
         "rawType": "object",
         "type": "string"
        },
        {
         "name": "authors",
         "rawType": "object",
         "type": "string"
        },
        {
         "name": "type",
         "rawType": "int64",
         "type": "integer"
        },
        {
         "name": "notes",
         "rawType": "object",
         "type": "string"
        }
       ],
       "ref": "2a9dc92a-a418-4a14-8df8-43b7a9cf6e5b",
       "rows": [
        [
         "0",
         "100 Days in Europe",
         "0",
         "mangaupdates/52260056227",
         "Jihyo Kim",
         "1",
         "I read this back when I was still reading on the Tapas app. I like Jihyo Kim's artwork and I read her other comic after this, Hans and Emily"
        ],
        [
         "1",
         "10th - You and I Fell in Love with the Same Person",
         "0",
         "mangadex/e1980036-8e28-4885-b8fc-12dc31374f90",
         "Inari Yuuko",
         "1",
         "I saw this at the bookstores, and wondered about it. Turns out it's only 3 volumes, and since it's published here, it can't be bad, right, I thought. So I picked it up. It's quite interesting, I suppose, since in the end, they all stayed friends."
        ],
        [
         "2",
         "150 Days",
         "0",
         "old/2",
         "KnightJJ",
         "1",
         "I read this because the art looked cute"
        ],
        [
         "3",
         "18 Diary",
         "0",
         "mangaupdates/55423584538",
         "Akira Shouko",
         "1",
         ""
        ],
        [
         "4",
         "19 Days",
         "0",
         "mangaupdates/50189847461",
         "Old Xian",
         "1",
         "Originaly recommended by Hattchan! A very nice BL series, and Old Xian's artwork is a treat to the eyes."
        ],
        [
         "5",
         "1984",
         "0",
         "neodb/book/7fufBhawdgBF5z9dp5ybQF",
         "George Orwell",
         "0",
         "I read this in school"
        ],
        [
         "6",
         "2015 Space Series",
         "0",
         "mangaupdates/67848211859",
         "various",
         "1",
         ""
        ],
        [
         "7",
         "2020 Total Nightmare",
         "0",
         "mangaupdates/25657747647",
         "Horang",
         "1",
         ""
        ],
        [
         "8",
         "3 AM Dangerous Zone",
         "0",
         "mangaupdates/28652585789",
         "NEMU Youko",
         "1",
         "I read this on Putri's recommendation."
        ],
        [
         "9",
         "31 Ways to Runaway",
         "0",
         "old/9",
         "various",
         "1",
         ""
        ],
        [
         "10",
         "600 Page Mystery",
         "0",
         "mangaupdates/31164855027",
         "Alto Yukimura",
         "1",
         "I read this because this was short and was recommended as being similar to series recommended by Hattchan. A recommendation of a recommendation, I suppose."
        ],
        [
         "11",
         "87 Clockers",
         "0",
         "mangaupdates/27414090222",
         "Tomoko Ninomiya",
         "1",
         "I read this because I wanted to read something else from Ninomiya. It's not quite as enjoyable as Nodame, but it also has quirky casts."
        ],
        [
         "12",
         "A Beer in Loire",
         "0",
         "old/12",
         "Tommy Barnes",
         "2",
         "I listened to this audiobook because Jay Foreman from Map Men reads it! It turned out to be quite interesting and funny, even if I don't like beer."
        ],
        [
         "13",
         "A Depiction of Hell",
         "0",
         "mangaupdates/45430411821",
         "Xiu Liu",
         "1",
         "This has such pretty art, but also it is pretty messed up. I look at this and I still remember how unsettling the story was, even if I don't remember what the story was about."
        ],
        [
         "14",
         "A Farewell to Arms",
         "0",
         "old/14",
         "Ernest Hemmingway",
         "0",
         ""
        ],
        [
         "15",
         "A Girl by the Sea",
         "0",
         "mangaupdates/40249415081",
         "Asano Inio",
         "1",
         "I saw this in a bookshop and wanted to buy it but never did. This and Oyasumi Punpun is probably how I first hear about [[Asano Inio]]"
        ],
        [
         "16",
         "A Mangaka at the Night Before the Deadline",
         "0",
         "mangaupdates/21833880624",
         "Doitsuken",
         "1",
         "I surprisingly randomly found this on a scanlator group's page, via Tachiyomi, haha. Viva Tachiyomi! Hachirumi is actually translating stuff (mostly oneshots) with approval from the authors, so tha's pretty cool!"
        ],
        [
         "17",
         "A Personal Matter",
         "0",
         "old/17",
         "Kenzaburō Ōe",
         "0",
         "I borrowed this from Vitaly. He had to read this for an assignment in uni, but I read it just for fun. It feels a bit bleak at first but somehow it kinda had a good ending."
        ],
        [
         "18",
         "A River in Darkness",
         "0",
         "old/18",
         "Masaji Ishikawa",
         "0",
         "A story of the lengths one had to go through to stay alive in extreme conditions. Sad, but hopeful since you know that he made it, and lived to write the tale."
        ],
        [
         "19",
         "A Series of Unfortunate Events",
         "0",
         "old/19",
         "Lemony Snicket (Daniel Handler)",
         "0",
         ""
        ],
        [
         "20",
         "A Witch's Printing Office",
         "0",
         "mangaupdates/13795029587",
         "Miyama Yasuhiro,Mochinchi",
         "1",
         "A funny fantasy comic about Comicket, otaku, and the doujin scene. Seems like Mochinchi is originally a doujin author on Comicket as well. I wanna go there too once!"
        ],
        [
         "21",
         "Adekan",
         "0",
         "mangaupdates/56362245653",
         "Tsukiji Nao",
         "1",
         "I dropped this because the scanlators stopped translating"
        ],
        [
         "22",
         "Aerial Magic",
         "0",
         "old/22",
         "walkingnorth",
         "1",
         "Dropped by Author"
        ],
        [
         "23",
         "Alice 19th",
         "0",
         "mangaupdates/29700992880",
         "Watase Yuu",
         "1",
         "I found a volume of this somewhere in Balikpapan, maybe it was my aunt's."
        ],
        [
         "24",
         "Amba",
         "0",
         "old/24",
         "Laksmi Pamuntjak",
         "0",
         ""
        ],
        [
         "25",
         "Amina and the Magic Lamp",
         "0",
         "mangaupdates/41541070762",
         "Eeyeol Chun,heeya",
         "1",
         "Recommended by Putri, who reads on Manta."
        ],
        [
         "26",
         "Animal Farm",
         "0",
         "old/26",
         "George Orwell",
         "0",
         "Read this in 8th grade"
        ],
        [
         "27",
         "Annarasumanara",
         "0",
         "mangadex/0ea0abe6-2aad-4aae-8462-9c6caf266653",
         "Ha Il-Kwon",
         "1",
         "This series is so beautifuly drawn. I started reading webtoons because of this. I read it back when I started living alone in Schriesheim."
        ],
        [
         "28",
         "Arakure",
         "0",
         "mangadex/d9d0b800-6800-4acc-a14c-927e180226cb",
         "Fujiwara Kiyo",
         "1",
         "I found this through the Indonesian manga magazine HanaLala. I picked it up again years after, but picking up these comics after so many years is quite fun."
        ],
        [
         "29",
         "Are You Going to Eat?",
         "0",
         "mangadex/55a7e2c0-4829-4ce8-8fdb-0344b6531bb5",
         "omyo",
         "1",
         "Very cute comic - there's a mobile app based on this comic. I played it for a while, but then lost all my progress TUT"
        ],
        [
         "30",
         "Arok Dedes",
         "0",
         "old/30",
         "P.A. Toer",
         "0",
         "I really liked this book. It showed a very interesting political perspective of the Ken Arok legend, and how at the end of the day, Dedes also lost."
        ],
        [
         "31",
         "As I Lay Dying",
         "0",
         "old/31",
         "William Faulkner",
         "0",
         "I read this the summer after 12th grade for fun. Mrs. Rizzardi mentioned that this is an interesting piece of literature. I kinda agree, but it's so bleak."
        ],
        [
         "32",
         "Ascendance of a Bookworm- Part 1",
         "0",
         "mangadex/c0ad8919-4646-4a61-adf9-0fd6d8612efa",
         "Kazuki Miya,Suzuka",
         "1",
         "Recommended by Hattchan. I'm currently reading the sequel [31.03.2021]"
        ],
        [
         "33",
         "Assasination Classroom",
         "0",
         "mangadex/333f4d22-7753-4e3b-b0da-0a69b2cdce4f",
         "Matsui Yuusei",
         "1",
         "I started reading this because of Hattchan"
        ],
        [
         "34",
         "At Each Other's Throats",
         "0",
         "mangaupdates/17117338202",
         "Sengae",
         "1",
         "This was cute and funny."
        ],
        [
         "35",
         "Avianista",
         "0",
         "old/35",
         " Fadjar N. (Producer), airdrama,Rimanti N.,Gerry S",
         "1",
         ""
        ],
        [
         "36",
         "Ayako",
         "0",
         "old/36",
         "Osamu Tezuka",
         "1",
         "The story is rather dark... It's not a story you read when you're feeling down."
        ],
        [
         "37",
         "Bakemono Recchan",
         "0",
         "old/37",
         "Asano Inio",
         "1",
         ""
        ],
        [
         "38",
         "Bakuman",
         "0",
         "mangaupdates/34780720357",
         "Ohba Tsugumi,Obata Takeshi",
         "1",
         ""
        ],
        [
         "39",
         "Balada Akhir Pekan",
         "0",
         "old/39",
         "Nan Nan",
         "1",
         "I somehow found this hilarious, haha."
        ],
        [
         "40",
         "Barakamon",
         "0",
         "mangaupdates/55132007396",
         "Yoshino Satsuki",
         "1",
         "I first saw this in a bookshop at a train station. I was intrigued by the premise of a manga revolving caligraphy."
        ],
        [
         "41",
         "Barbara",
         "0",
         "mangaupdates/43601147428",
         "Osamu Tezuka",
         "1",
         ""
        ],
        [
         "42",
         "Beastars",
         "0",
         "mangaupdates/73371651692",
         "Itagaki Paru",
         "1",
         "I binged this on a hot Saturday instead of studying for my exams. Putri recommended the anime to me. I think I'm very similar to Legosi because I also think Louis is the coolest character."
        ],
        [
         "43",
         "Beauty is the Beast",
         "0",
         "old/43",
         "Matsumoto Tomo",
         "1",
         "I first read this on HanaLala"
        ],
        [
         "44",
         "Beauty",
         "0",
         "old/44",
         "Hubert,Kerascöet",
         "1",
         "I read the ebook version of this using the last days of my Scribd subscription. The story is not bad and include several themes. I like that the story has a fairytale-cautionary tale aesthetics to it."
        ],
        [
         "45",
         "Before We Knew It",
         "0",
         "old/45",
         "Nakano Mayaka",
         "1",
         "Very shoujo-manga "
        ],
        [
         "46",
         "Beneath the Clouds",
         "0",
         "old/46",
         "Caroline Parkinson",
         "1",
         "I found this through another webcomic called Realm if Owls, through which I found the SpiderForest webcomic collective, through which I found Beneath the Clouds. I liked the story and artstyle."
        ],
        [
         "47",
         "Bernie no Enikki",
         "0",
         "mangaupdates/37471366799",
         "MINECO",
         "1",
         ""
        ],
        [
         "48",
         "Beyond Valhalla",
         "0",
         "old/48",
         "Rann",
         "1",
         "I bought the PDF on Gumroad, I think? But it's not available anywhere anymore it seems?"
        ],
        [
         "49",
         "Black Cat",
         "0",
         "mangaupdates/27113423397",
         "Yabuki Kentaro",
         "1",
         "One of the series that brought Hattchan and I together"
        ]
       ],
       "shape": {
        "columns": 6,
        "rows": 676
       }
      },
      "text/html": [
       "<div>\n",
       "<style scoped>\n",
       "    .dataframe tbody tr th:only-of-type {\n",
       "        vertical-align: middle;\n",
       "    }\n",
       "\n",
       "    .dataframe tbody tr th {\n",
       "        vertical-align: top;\n",
       "    }\n",
       "\n",
       "    .dataframe thead th {\n",
       "        text-align: right;\n",
       "    }\n",
       "</style>\n",
       "<table border=\"1\" class=\"dataframe\">\n",
       "  <thead>\n",
       "    <tr style=\"text-align: right;\">\n",
       "      <th></th>\n",
       "      <th>title</th>\n",
       "      <th>progress</th>\n",
       "      <th>DB</th>\n",
       "      <th>authors</th>\n",
       "      <th>type</th>\n",
       "      <th>notes</th>\n",
       "    </tr>\n",
       "  </thead>\n",
       "  <tbody>\n",
       "    <tr>\n",
       "      <th>0</th>\n",
       "      <td>100 Days in Europe</td>\n",
       "      <td>0</td>\n",
       "      <td>mangaupdates/52260056227</td>\n",
       "      <td>Jihyo Kim</td>\n",
       "      <td>1</td>\n",
       "      <td>I read this back when I was still reading on t...</td>\n",
       "    </tr>\n",
       "    <tr>\n",
       "      <th>1</th>\n",
       "      <td>10th - You and I Fell in Love with the Same Pe...</td>\n",
       "      <td>0</td>\n",
       "      <td>mangadex/e1980036-8e28-4885-b8fc-12dc31374f90</td>\n",
       "      <td>Inari Yuuko</td>\n",
       "      <td>1</td>\n",
       "      <td>I saw this at the bookstores, and wondered abo...</td>\n",
       "    </tr>\n",
       "    <tr>\n",
       "      <th>2</th>\n",
       "      <td>150 Days</td>\n",
       "      <td>0</td>\n",
       "      <td>old/2</td>\n",
       "      <td>KnightJJ</td>\n",
       "      <td>1</td>\n",
       "      <td>I read this because the art looked cute</td>\n",
       "    </tr>\n",
       "    <tr>\n",
       "      <th>3</th>\n",
       "      <td>18 Diary</td>\n",
       "      <td>0</td>\n",
       "      <td>mangaupdates/55423584538</td>\n",
       "      <td>Akira Shouko</td>\n",
       "      <td>1</td>\n",
       "      <td></td>\n",
       "    </tr>\n",
       "    <tr>\n",
       "      <th>4</th>\n",
       "      <td>19 Days</td>\n",
       "      <td>0</td>\n",
       "      <td>mangaupdates/50189847461</td>\n",
       "      <td>Old Xian</td>\n",
       "      <td>1</td>\n",
       "      <td>Originaly recommended by Hattchan! A very nice...</td>\n",
       "    </tr>\n",
       "    <tr>\n",
       "      <th>...</th>\n",
       "      <td>...</td>\n",
       "      <td>...</td>\n",
       "      <td>...</td>\n",
       "      <td>...</td>\n",
       "      <td>...</td>\n",
       "      <td>...</td>\n",
       "    </tr>\n",
       "    <tr>\n",
       "      <th>671</th>\n",
       "      <td>1000 Words</td>\n",
       "      <td>0</td>\n",
       "      <td>internal/1</td>\n",
       "      <td>Yuumei</td>\n",
       "      <td>1</td>\n",
       "      <td>I read this on DeviantArt back in the day.</td>\n",
       "    </tr>\n",
       "    <tr>\n",
       "      <th>672</th>\n",
       "      <td>Sick Alhaitham</td>\n",
       "      <td>0</td>\n",
       "      <td>internal/2</td>\n",
       "      <td>meru_h1h1_chan</td>\n",
       "      <td>1</td>\n",
       "      <td></td>\n",
       "    </tr>\n",
       "    <tr>\n",
       "      <th>673</th>\n",
       "      <td>Genshin Fancomic - Lyney and Lynette</td>\n",
       "      <td>0</td>\n",
       "      <td>internal/3</td>\n",
       "      <td>nana_illust</td>\n",
       "      <td>1</td>\n",
       "      <td></td>\n",
       "    </tr>\n",
       "    <tr>\n",
       "      <th>674</th>\n",
       "      <td>Good Luck, Babe!</td>\n",
       "      <td>0</td>\n",
       "      <td>internal/4</td>\n",
       "      <td>ine8s</td>\n",
       "      <td>1</td>\n",
       "      <td>The comic based on the anti-comphet song by le...</td>\n",
       "    </tr>\n",
       "    <tr>\n",
       "      <th>675</th>\n",
       "      <td>Sourdough Yuri</td>\n",
       "      <td>0</td>\n",
       "      <td>internal/5</td>\n",
       "      <td>byizzyliu</td>\n",
       "      <td>1</td>\n",
       "      <td></td>\n",
       "    </tr>\n",
       "  </tbody>\n",
       "</table>\n",
       "<p>676 rows × 6 columns</p>\n",
       "</div>"
      ],
      "text/plain": [
       "                                                 title  progress  \\\n",
       "0                                   100 Days in Europe         0   \n",
       "1    10th - You and I Fell in Love with the Same Pe...         0   \n",
       "2                                             150 Days         0   \n",
       "3                                             18 Diary         0   \n",
       "4                                              19 Days         0   \n",
       "..                                                 ...       ...   \n",
       "671                                         1000 Words         0   \n",
       "672                                     Sick Alhaitham         0   \n",
       "673               Genshin Fancomic - Lyney and Lynette         0   \n",
       "674                                  Good Luck, Babe!          0   \n",
       "675                                     Sourdough Yuri         0   \n",
       "\n",
       "                                                DB         authors  type  \\\n",
       "0                         mangaupdates/52260056227       Jihyo Kim     1   \n",
       "1    mangadex/e1980036-8e28-4885-b8fc-12dc31374f90     Inari Yuuko     1   \n",
       "2                                            old/2        KnightJJ     1   \n",
       "3                         mangaupdates/55423584538    Akira Shouko     1   \n",
       "4                         mangaupdates/50189847461        Old Xian     1   \n",
       "..                                             ...             ...   ...   \n",
       "671                                     internal/1          Yuumei     1   \n",
       "672                                     internal/2  meru_h1h1_chan     1   \n",
       "673                                     internal/3     nana_illust     1   \n",
       "674                                     internal/4           ine8s     1   \n",
       "675                                     internal/5       byizzyliu     1   \n",
       "\n",
       "                                                 notes  \n",
       "0    I read this back when I was still reading on t...  \n",
       "1    I saw this at the bookstores, and wondered abo...  \n",
       "2              I read this because the art looked cute  \n",
       "3                                                       \n",
       "4    Originaly recommended by Hattchan! A very nice...  \n",
       "..                                                 ...  \n",
       "671        I read this on DeviantArt back in the day.   \n",
       "672                                                     \n",
       "673                                                     \n",
       "674  The comic based on the anti-comphet song by le...  \n",
       "675                                                     \n",
       "\n",
       "[676 rows x 6 columns]"
      ]
     },
     "execution_count": 3,
     "metadata": {},
     "output_type": "execute_result"
    }
   ],
   "source": [
    "notes.df"
   ]
  },
  {
   "cell_type": "code",
   "execution_count": 4,
   "metadata": {},
   "outputs": [
    {
     "data": {
      "application/vnd.jupyter.widget-view+json": {
       "model_id": "04c9af078dbc477ea4e597bd1092bf36",
       "version_major": 2,
       "version_minor": 0
      },
      "text/plain": [
       "HBox(children=(VBox(children=(VBox(children=(IntText(value=0, description='ID:', layout=Layout(width='90%')), …"
      ]
     },
     "metadata": {},
     "output_type": "display_data"
    }
   ],
   "source": [
    "# show individual entry\n",
    "display(screens.entry_display(notes))"
   ]
  },
  {
   "cell_type": "markdown",
   "metadata": {},
   "source": [
    "---\n",
    "\n",
    "## Adding Entries"
   ]
  },
  {
   "cell_type": "raw",
   "metadata": {
    "vscode": {
     "languageId": "raw"
    }
   },
   "source": [
    "Current tachibk categories:\n",
    "0  Completed   5 ToRead (Completed)\n",
    "1  Anthologies 6 ToRead (Ongoing)\n",
    "2  OneShot     7 On Hiatus\n",
    "3  Reading     8 Waiting on next volume\n",
    "4  Webtoon     9 Hentai"
   ]
  },
  {
   "cell_type": "code",
   "execution_count": 5,
   "metadata": {},
   "outputs": [],
   "source": [
    "from_url   = {'notes': []}\n",
    "from_libby = {'notes' : []}\n",
    "from_tachi = {'notes': []}\n",
    "search = {'notes': [], 'title': None}\n",
    "manual = {'notes': [], 'entries': [], 'lastID': interndb.getLastID()+1}\n"
   ]
  },
  {
   "cell_type": "code",
   "execution_count": 6,
   "metadata": {},
   "outputs": [
    {
     "data": {
      "application/vnd.jupyter.widget-view+json": {
       "model_id": "ac3841b1fd6a46daae394824c896d4c7",
       "version_major": 2,
       "version_minor": 0
      },
      "text/plain": [
       "Tab(children=(VBox(children=(Text(value='', layout=Layout(width='90%'), placeholder='Search title...', style=T…"
      ]
     },
     "metadata": {},
     "output_type": "display_data"
    }
   ],
   "source": [
    "display(screens.add_entries(search, manual, from_url, from_libby, \n",
    "                            from_tachi, tachidb, notes, interndb))"
   ]
  },
  {
   "cell_type": "markdown",
   "metadata": {},
   "source": [
    "---\n",
    "\n",
    "## Save changes"
   ]
  },
  {
   "cell_type": "code",
   "execution_count": 7,
   "metadata": {},
   "outputs": [],
   "source": [
    "# Save to JSON\n",
    "notes.save()\n",
    "tachidb.save()\n",
    "interndb.save()"
   ]
  }
 ],
 "metadata": {
  "kernelspec": {
   "display_name": ".venv",
   "language": "python",
   "name": "python3"
  },
  "language_info": {
   "codemirror_mode": {
    "name": "ipython",
    "version": 3
   },
   "file_extension": ".py",
   "mimetype": "text/x-python",
   "name": "python",
   "nbconvert_exporter": "python",
   "pygments_lexer": "ipython3",
   "version": "3.13.5"
  }
 },
 "nbformat": 4,
 "nbformat_minor": 4
}
